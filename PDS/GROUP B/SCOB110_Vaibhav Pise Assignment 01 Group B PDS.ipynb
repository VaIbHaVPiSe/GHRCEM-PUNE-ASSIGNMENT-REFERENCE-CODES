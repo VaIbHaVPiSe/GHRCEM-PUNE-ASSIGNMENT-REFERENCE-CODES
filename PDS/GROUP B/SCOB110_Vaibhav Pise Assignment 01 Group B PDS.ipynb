{
 "cells": [
  {
   "cell_type": "code",
   "execution_count": 1,
   "id": "065d7ca6",
   "metadata": {},
   "outputs": [
    {
     "name": "stdout",
     "output_type": "stream",
     "text": [
      "[[ 1.7 78.4]\n",
      " [ 1.8 70.5]\n",
      " [ 2.1 84.5]\n",
      " [ 1.7 75.2]\n",
      " [ 1.9 75.1]\n",
      " [ 1.6 68.8]]\n",
      "(6, 2)\n",
      "Average: 1.7999999999999998\n",
      "Median: 1.75\n",
      "Standard Deviation: 0.16329931618554522\n",
      "[27.12802768 21.75925926 19.16099773 26.02076125 20.8033241  26.875     ]\n",
      "Overweight players\n",
      "[27.12802768 26.02076125 26.875     ]\n",
      "players whose bmi is normal \n",
      "[21.75925926 19.16099773 20.8033241 ]\n"
     ]
    }
   ],
   "source": [
    "import numpy as np\n",
    "\n",
    "playerdetails = [1.7, 78.4, 1.8, 70.5,2.1, 84.5, 1.7, 75.2 ,1.9, 75.1 , 1.6 ,68.8]\n",
    "\n",
    "soccer = np.array(playerdetails)\n",
    "\n",
    "np_soccer = soccer.reshape(6,2)\n",
    "\n",
    "print (np_soccer)\n",
    "\n",
    "# Print out the shape of np_soccer\n",
    "print(np_soccer.shape)\n",
    "\n",
    "#Printing the average of Heights\n",
    "avg = np.mean(np_soccer[:,0])\n",
    "print(\"Average: \" + str(avg))\n",
    "\n",
    "# Print median height. \n",
    "med = np.median(np_soccer[:,0])\n",
    "print(\"Median: \" + str(med))\n",
    "\n",
    "# Print out the standard deviation on height.\n",
    "stddev = np.std(np_soccer[:,0])\n",
    "print(\"Standard Deviation: \" + str(stddev))\n",
    "\n",
    "#Calculating BMI\n",
    "np_height = np_soccer[:,0]\n",
    "np_weight = np_soccer[:,1]\n",
    "\n",
    "bmi = np_weight/np_height**2\n",
    "print (bmi)\n",
    "\n",
    "arr_overweight = bmi[bmi>25]\n",
    "print (\"Overweight players\")\n",
    "print (arr_overweight)\n",
    "\n",
    "arr_normal = bmi[bmi<=25]\n",
    "\n",
    "print (\"players whose bmi is normal \")\n",
    "print (arr_normal)\n"
   ]
  },
  {
   "cell_type": "code",
   "execution_count": null,
   "id": "439f70b2",
   "metadata": {},
   "outputs": [],
   "source": []
  }
 ],
 "metadata": {
  "kernelspec": {
   "display_name": "Python 3",
   "language": "python",
   "name": "python3"
  },
  "language_info": {
   "codemirror_mode": {
    "name": "ipython",
    "version": 3
   },
   "file_extension": ".py",
   "mimetype": "text/x-python",
   "name": "python",
   "nbconvert_exporter": "python",
   "pygments_lexer": "ipython3",
   "version": "3.8.8"
  }
 },
 "nbformat": 4,
 "nbformat_minor": 5
}
