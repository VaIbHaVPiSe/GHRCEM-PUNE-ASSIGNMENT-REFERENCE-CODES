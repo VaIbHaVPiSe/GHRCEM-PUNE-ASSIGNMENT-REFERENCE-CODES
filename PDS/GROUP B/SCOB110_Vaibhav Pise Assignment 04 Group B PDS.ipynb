{
 "cells": [
  {
   "cell_type": "code",
   "execution_count": 8,
   "id": "e6bbc2cd",
   "metadata": {},
   "outputs": [
    {
     "name": "stdout",
     "output_type": "stream",
     "text": [
      "<bound method NDFrame.head of                                Region                Country        Item Type  \\\n",
      "0               Australia and Oceania                 Tuvalu        Baby Food   \n",
      "1   Central America and the Caribbean                Grenada           Cereal   \n",
      "2                              Europe                 Russia  Office Supplies   \n",
      "3                  Sub-Saharan Africa  Sao Tome and Principe           Fruits   \n",
      "4                  Sub-Saharan Africa                 Rwanda  Office Supplies   \n",
      "..                                ...                    ...              ...   \n",
      "95                 Sub-Saharan Africa                   Mali          Clothes   \n",
      "96                               Asia               Malaysia           Fruits   \n",
      "97                 Sub-Saharan Africa           Sierra Leone       Vegetables   \n",
      "98                      North America                 Mexico    Personal Care   \n",
      "99                 Sub-Saharan Africa             Mozambique        Household   \n",
      "\n",
      "   Sales Channel Order Priority  Units Sold  Unit Price  Unit Cost  \\\n",
      "0        Offline              H        9925      255.28     159.42   \n",
      "1         Online              C        2804      205.70     117.11   \n",
      "2        Offline              L        1779      651.21     524.96   \n",
      "3         Online              C        8102        9.33       6.92   \n",
      "4        Offline              L        5062      651.21     524.96   \n",
      "..           ...            ...         ...         ...        ...   \n",
      "95        Online              M         888      109.28      35.84   \n",
      "96       Offline              L        6267        9.33       6.92   \n",
      "97       Offline              C        1485      154.06      90.93   \n",
      "98       Offline              M        5767       81.73      56.67   \n",
      "99       Offline              L        5367      668.27     502.54   \n",
      "\n",
      "    Total Revenue  Total Cost  Total Profit  \n",
      "0      2533654.00  1582243.50     951410.50  \n",
      "1       576782.80   328376.44     248406.36  \n",
      "2      1158502.59   933903.84     224598.75  \n",
      "3        75591.66    56065.84      19525.82  \n",
      "4      3296425.02  2657347.52     639077.50  \n",
      "..            ...         ...           ...  \n",
      "95       97040.64    31825.92      65214.72  \n",
      "96       58471.11    43367.64      15103.47  \n",
      "97      228779.10   135031.05      93748.05  \n",
      "98      471336.91   326815.89     144521.02  \n",
      "99     3586605.09  2697132.18     889472.91  \n",
      "\n",
      "[100 rows x 11 columns]>\n",
      "Data import sucessfully to Book1\n"
     ]
    }
   ],
   "source": [
    "import pandas as pd\n",
    "data=pd.read_csv('E:\\\\100 Sales Records.csv')\n",
    "print(data.head)\n",
    "writer = pd.ExcelWriter(\"E:\\\\output.xlsx\")\n",
    "data.to_excel(writer)\n",
    "writer.save()\n",
    "print(\"Data import sucessfully to Book1\")"
   ]
  },
  {
   "cell_type": "code",
   "execution_count": null,
   "id": "3fa6dab1",
   "metadata": {},
   "outputs": [],
   "source": []
  }
 ],
 "metadata": {
  "kernelspec": {
   "display_name": "Python 3",
   "language": "python",
   "name": "python3"
  },
  "language_info": {
   "codemirror_mode": {
    "name": "ipython",
    "version": 3
   },
   "file_extension": ".py",
   "mimetype": "text/x-python",
   "name": "python",
   "nbconvert_exporter": "python",
   "pygments_lexer": "ipython3",
   "version": "3.8.8"
  }
 },
 "nbformat": 4,
 "nbformat_minor": 5
}
