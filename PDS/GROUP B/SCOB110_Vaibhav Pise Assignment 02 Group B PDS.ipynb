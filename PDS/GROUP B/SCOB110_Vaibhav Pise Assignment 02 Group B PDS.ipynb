{
 "cells": [
  {
   "cell_type": "code",
   "execution_count": 1,
   "id": "890e7cf8",
   "metadata": {},
   "outputs": [
    {
     "name": "stdout",
     "output_type": "stream",
     "text": [
      "Exponential of 2nd on 1st array is:  \n",
      " [[      1    4096 1594323]\n",
      " [     16      25      36]]\n",
      "Exponential of 2nd on 1st array is using built in function:\n",
      " [[      1    4096 1594323]\n",
      " [     16      25      36]]\n"
     ]
    }
   ],
   "source": [
    "import numpy as np\n",
    "\n",
    "arr1 = np.array([[1,2,3],[4,5,6]])\n",
    "arr2 = np.array([[11,12,13],[2,2,2]])\n",
    "\n",
    "if arr1.shape !=arr2.shape:\n",
    "    print (\"Error: Given arrays are of not same size\")\n",
    "else:\n",
    "    print (\"Exponential of 2nd on 1st array is:  \\n\" , arr1**arr2)\n",
    "        \n",
    "#Using the built in power function\n",
    "\n",
    "import numpy as np\n",
    "\n",
    "arr1 = np.array([[1,2,3],[4,5,6]])\n",
    "arr2 = np.array([[11,12,13],[2,2,2]])\n",
    "\n",
    "if arr1.shape !=arr2.shape:\n",
    "    print (\"Error: Given arrays are of not same size\")\n",
    "else:\n",
    "    print (\"Exponential of 2nd on 1st array is using built in function:\\n\" , np.power(arr1,arr2))"
   ]
  },
  {
   "cell_type": "code",
   "execution_count": null,
   "id": "6b571d3c",
   "metadata": {},
   "outputs": [],
   "source": []
  }
 ],
 "metadata": {
  "kernelspec": {
   "display_name": "Python 3",
   "language": "python",
   "name": "python3"
  },
  "language_info": {
   "codemirror_mode": {
    "name": "ipython",
    "version": 3
   },
   "file_extension": ".py",
   "mimetype": "text/x-python",
   "name": "python",
   "nbconvert_exporter": "python",
   "pygments_lexer": "ipython3",
   "version": "3.8.8"
  }
 },
 "nbformat": 4,
 "nbformat_minor": 5
}
